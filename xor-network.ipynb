{
 "cells": [
  {
   "cell_type": "markdown",
   "metadata": {},
   "source": [
    "# Neural networks handcrafted"
   ]
  },
  {
   "cell_type": "markdown",
   "metadata": {},
   "source": [
    "by Dominik Krzemiński\n",
    "(21/11/18)"
   ]
  },
  {
   "cell_type": "code",
   "execution_count": 1,
   "metadata": {},
   "outputs": [],
   "source": [
    "from __future__ import print_function\n",
    "import numpy as np\n",
    "import matplotlib.pyplot as plt\n",
    "\n",
    "%matplotlib inline"
   ]
  },
  {
   "cell_type": "markdown",
   "metadata": {},
   "source": [
    "**Goal**: teach simple network XOR"
   ]
  },
  {
   "cell_type": "markdown",
   "metadata": {},
   "source": [
    "![](img/nn1.png)"
   ]
  },
  {
   "cell_type": "markdown",
   "metadata": {},
   "source": [
    "# Vanilla Neural Network"
   ]
  },
  {
   "cell_type": "markdown",
   "metadata": {},
   "source": [
    "Below we create numerical representation of this simple problem:"
   ]
  },
  {
   "cell_type": "code",
   "execution_count": 2,
   "metadata": {},
   "outputs": [],
   "source": [
    "X = [(0,0), (1,0), (0,1), (1,1)]\n",
    "Y = [0, 1, 1, 0]"
   ]
  },
  {
   "cell_type": "markdown",
   "metadata": {},
   "source": [
    "We wil use the following architecture:\n",
    "![](img/nn2.png)\n",
    "which gives number of parameters:\n",
    "![](img/nn3.png)"
   ]
  },
  {
   "cell_type": "markdown",
   "metadata": {},
   "source": [
    "Let's define our parameter vector in according to this. Additionaly I define $\\eta$ learning rate. We will play around this later."
   ]
  },
  {
   "cell_type": "code",
   "execution_count": 3,
   "metadata": {},
   "outputs": [],
   "source": [
    "eta = 0.1"
   ]
  },
  {
   "cell_type": "code",
   "execution_count": 4,
   "metadata": {},
   "outputs": [],
   "source": [
    "w1 = 2 * np.random.random(size=(2,3)) - 1\n",
    "w2 = 2 * np.random.random(size=(3,1)) - 1\n",
    "b1 = 2 * np.random.random(size=(1,3)) - 1\n",
    "b2 = 2 * np.random.random(size=(1,1)) - 1"
   ]
  },
  {
   "cell_type": "markdown",
   "metadata": {},
   "source": [
    "Typical neuron perform operation of sum of weighted input and thresholding the activation $a$.\n",
    "\n",
    "![](img/nn4.png)"
   ]
  },
  {
   "cell_type": "markdown",
   "metadata": {},
   "source": [
    "Our activation funtion is sigmoid (you can learn more here: https://en.wikipedia.org/wiki/Sigmoid_function):\n",
    "\n",
    "![](img/nn5.png)"
   ]
  },
  {
   "cell_type": "markdown",
   "metadata": {},
   "source": [
    "Let's compute the first derivative as we might need it later.\n",
    "\n",
    "![](img/nn6.png)\n",
    "\n",
    "Yeah, that's the good moment to appreciate simplicity of the above formula. That's one of the reasons why ML researchers like this function."
   ]
  },
  {
   "cell_type": "code",
   "execution_count": 5,
   "metadata": {},
   "outputs": [],
   "source": [
    "def sigmoid(x):\n",
    "    return 1./(1 + np.exp(-x))\n",
    "\n",
    "def dsigmoid(y):\n",
    "    return y*(1-y)"
   ]
  },
  {
   "cell_type": "code",
   "execution_count": 6,
   "metadata": {},
   "outputs": [],
   "source": [
    "x = np.array(X[0])\n",
    "y = np.array(Y[0])"
   ]
  },
  {
   "cell_type": "markdown",
   "metadata": {},
   "source": [
    "We perform forward pass first:\n",
    "\n",
    "![](img/nn7.png)"
   ]
  },
  {
   "cell_type": "code",
   "execution_count": 7,
   "metadata": {},
   "outputs": [],
   "source": [
    "act1 = np.dot(w1.T, x) + b1\n",
    "lay1 = sigmoid(act1)"
   ]
  },
  {
   "cell_type": "code",
   "execution_count": 8,
   "metadata": {},
   "outputs": [],
   "source": [
    "act2 = np.dot(w2.T, lay1.T) + b2\n",
    "lay2 = sigmoid(act2)"
   ]
  },
  {
   "cell_type": "markdown",
   "metadata": {},
   "source": [
    "Since we reched the last layer, we can compute the error of our prediction.\n",
    "![](img/nn9.png)"
   ]
  },
  {
   "cell_type": "code",
   "execution_count": 9,
   "metadata": {},
   "outputs": [],
   "source": [
    "E = 0.5 * (y - lay2)**2"
   ]
  },
  {
   "cell_type": "markdown",
   "metadata": {},
   "source": [
    "Now, we propagate this error backwards, starting from the last layer. We need to use chain rule to get formula for the update.\n",
    "\n",
    "For weights it looks like this:\n",
    "\n",
    "![](img/nn10.png)\n",
    "\n",
    "and for bias like this:\n",
    "\n",
    "![](img/nn11.png)"
   ]
  },
  {
   "cell_type": "code",
   "execution_count": 10,
   "metadata": {},
   "outputs": [],
   "source": [
    "delta_l2 = (y-lay2) * dsigmoid(act2)\n",
    "corr_w2 = delta_l2 * lay1\n",
    "corr_b2 = delta_l2 * 1"
   ]
  },
  {
   "cell_type": "markdown",
   "metadata": {},
   "source": [
    "Finally, we can update our weights using the gradient descent. Note, how every word makes sense here.\n",
    "- gradient $\\frac{d E}{d w}$\n",
    "- descent \"-\"\n",
    "\n",
    "![](img/nn8.png)"
   ]
  },
  {
   "cell_type": "code",
   "execution_count": 11,
   "metadata": {},
   "outputs": [],
   "source": [
    "w2 = w2 - eta * corr_w2.T\n",
    "b2 = b2 - eta * corr_b2"
   ]
  },
  {
   "cell_type": "markdown",
   "metadata": {},
   "source": [
    "Layer 1 update is a little bit more complicated, as we have to use chain rule twice:\n",
    "\n",
    "![](img/nn12.png)\n",
    "\n",
    "Try make it by yourself for bias.\n",
    "\n",
    "![](img/nn13.png)\n"
   ]
  },
  {
   "cell_type": "code",
   "execution_count": 12,
   "metadata": {},
   "outputs": [],
   "source": [
    "delta_l1 = np.dot(w2, delta_l2) * dsigmoid(act1).T\n",
    "corr_w1 = np.outer(x, delta_l1)\n",
    "corr_b1 = delta_l1 * 1"
   ]
  },
  {
   "cell_type": "markdown",
   "metadata": {},
   "source": [
    "We update the parameters, similarly as above."
   ]
  },
  {
   "cell_type": "code",
   "execution_count": 13,
   "metadata": {},
   "outputs": [],
   "source": [
    "w1 = w1 - eta * corr_w1\n",
    "b1 = b1 - eta * corr_b1.T"
   ]
  },
  {
   "cell_type": "markdown",
   "metadata": {},
   "source": [
    "Finally, we can put that together:"
   ]
  },
  {
   "cell_type": "code",
   "execution_count": 14,
   "metadata": {},
   "outputs": [
    {
     "name": "stdout",
     "output_type": "stream",
     "text": [
      "| 0, 0.815| 1, 0.812| 1, 0.801| 0, 0.808 < --- 0\n",
      "| 0, 0.496| 1, 0.502| 1, 0.488| 0, 0.503 < --- 1000\n",
      "| 0, 0.490| 1, 0.523| 1, 0.476| 0, 0.478 < --- 2000\n",
      "| 0, 0.404| 1, 0.643| 1, 0.535| 0, 0.351 < --- 3000\n",
      "| 0, 0.201| 1, 0.798| 1, 0.770| 0, 0.192 < --- 4000\n",
      "| 0, 0.121| 1, 0.869| 1, 0.857| 0, 0.128 < --- 5000\n",
      "| 0, 0.090| 1, 0.899| 1, 0.893| 0, 0.099 < --- 6000\n",
      "| 0, 0.073| 1, 0.916| 1, 0.912| 0, 0.082 < --- 7000\n",
      "| 0, 0.063| 1, 0.927| 1, 0.924| 0, 0.072 < --- 8000\n",
      "| 0, 0.055| 1, 0.935| 1, 0.932| 0, 0.064 < --- 9000\n"
     ]
    }
   ],
   "source": [
    "# Number of epochs\n",
    "# ... or in other words:\n",
    "# how many times we show our network all examples\n",
    "N = 10000 \n",
    "\n",
    "error = np.zeros((N,1))\n",
    "\n",
    "for n in range(N):\n",
    "    for i in range(len(X)): # iterate over all examples\n",
    "        x = np.array(X[i])\n",
    "        y = np.array(Y[i])\n",
    "        # Forward pass, 1st layer\n",
    "        act1 = np.dot(w1.T, x) + b1\n",
    "        lay1 = sigmoid(act1)\n",
    "        # Forward pass, 2nd layer\n",
    "        act2 = np.dot(w2.T, lay1.T) + b2\n",
    "        lay2 = sigmoid(act2)\n",
    "        # Computing error\n",
    "        E = 0.5*(lay2 - y)**2\n",
    "        error[n] += E[0]\n",
    "        # Backprop, 2nd layer\n",
    "        delta_l2 = (lay2-y) * dsigmoid(lay2)\n",
    "        corr_w2 = (delta_l2 * lay1).T\n",
    "        corr_b2 = delta_l2 * 1\n",
    "        # Backprop, 1st layer\n",
    "        delta_l1 = np.dot(w2, delta_l2) * dsigmoid(lay1).T\n",
    "        corr_w1 = np.outer(x, delta_l1)\n",
    "        corr_b1 = (delta_l1 * 1).T\n",
    "        w2 = w2 - eta * corr_w2\n",
    "        b2 = b2 - eta * corr_b2\n",
    "        w1 = w1 - eta * corr_w1\n",
    "        b1 = b1 - eta * corr_b1\n",
    "        if n % 1000 == 0:\n",
    "            print('| {}, {:.3f}'.format(y, lay2[0][0]), end='')\n",
    "    if n % 1000 == 0:\n",
    "        print(' <', '-' * 3, n)\n",
    "    error[n] /= len(X)"
   ]
  },
  {
   "cell_type": "code",
   "execution_count": 15,
   "metadata": {},
   "outputs": [
    {
     "data": {
      "text/plain": [
       "Text(0.5, 0, 'epoch')"
      ]
     },
     "execution_count": 15,
     "metadata": {},
     "output_type": "execute_result"
    },
    {
     "data": {
      "image/png": "[encoded data removed]",
      "text/plain": [
       "<Figure size 432x288 with 1 Axes>"
      ]
     },
     "metadata": {
      "needs_background": "light"
     },
     "output_type": "display_data"
    }
   ],
   "source": [
    "plt.plot(np.arange(N), error)\n",
    "plt.ylabel('error')\n",
    "plt.xlabel('epoch')"
   ]
  },
  {
   "cell_type": "markdown",
   "metadata": {},
   "source": [
    "Above we implemeted so called stochastic gradient descent. We update weights right after seeing a new example.\n",
    "\n",
    "Below we slightly change our code to follow batch gradient descent schema. We update parameters after seeing a batch of examples. In  our case all four."
   ]
  },
  {
   "cell_type": "code",
   "execution_count": 16,
   "metadata": {},
   "outputs": [],
   "source": [
    "w1 = 2 * np.random.random(size=(2,3)) - 1\n",
    "w2 = 2 * np.random.random(size=(3,1)) - 1\n",
    "b1 = 2 * np.random.random(size=(1,3)) - 1\n",
    "b2 = 2 * np.random.random(size=(1,1)) - 1"
   ]
  },
  {
   "cell_type": "code",
   "execution_count": 17,
   "metadata": {},
   "outputs": [
    {
     "name": "stdout",
     "output_type": "stream",
     "text": [
      "| 0, 0.595| 1, 0.593| 1, 0.571| 0, 0.573 < --- 0\n",
      "| 0, 0.500| 1, 0.509| 1, 0.492| 0, 0.495 < --- 1000\n",
      "| 0, 0.472| 1, 0.527| 1, 0.487| 0, 0.497 < --- 2000\n",
      "| 0, 0.283| 1, 0.654| 1, 0.625| 0, 0.400 < --- 3000\n",
      "| 0, 0.109| 1, 0.821| 1, 0.818| 0, 0.213 < --- 4000\n",
      "| 0, 0.066| 1, 0.879| 1, 0.878| 0, 0.145 < --- 5000\n",
      "| 0, 0.049| 1, 0.905| 1, 0.904| 0, 0.114 < --- 6000\n",
      "| 0, 0.039| 1, 0.920| 1, 0.919| 0, 0.097 < --- 7000\n",
      "| 0, 0.033| 1, 0.930| 1, 0.930| 0, 0.085 < --- 8000\n",
      "| 0, 0.029| 1, 0.937| 1, 0.937| 0, 0.076 < --- 9000\n"
     ]
    }
   ],
   "source": [
    "N = 10000\n",
    "error = np.zeros((N,1))\n",
    "for n in range(N):\n",
    "    Dw_1 = np.zeros((2,3))\n",
    "    Dw_2 = np.zeros((3,1))\n",
    "    Db_1 = np.zeros((1,3))\n",
    "    Db_2 = np.zeros((1,1))\n",
    "\n",
    "    for i in range(len(X)): # iterate over all examples\n",
    "        x = np.array(X[i])\n",
    "        y = np.array(Y[i])\n",
    "        # Forward pass, 1st layer\n",
    "        act1 = np.dot(w1.T, x) + b1\n",
    "        lay1 = sigmoid(act1)\n",
    "        # Forward pass, 2nd layer\n",
    "        act2 = np.dot(w2.T, lay1.T) + b2\n",
    "        lay2 = sigmoid(act2)\n",
    "        # Computing error\n",
    "        E = 0.5*(lay2 - y)**2\n",
    "        error[n] += E[0]\n",
    "        # Backprop, 2nd layer\n",
    "        delta_l2 = (lay2-y) * dsigmoid(lay2)\n",
    "        corr_w2 = (delta_l2 * lay1).T\n",
    "        corr_b2 = delta_l2 * 1\n",
    "        # Backprop, 1st layer\n",
    "        delta_l1 = np.dot(w2, delta_l2) * dsigmoid(lay1).T\n",
    "        corr_w1 = np.outer(x, delta_l1)\n",
    "        corr_b1 = (delta_l1 * 1).T\n",
    "        Dw_2 += corr_w2\n",
    "        Dw_1 += corr_w1\n",
    "        Db_2 += corr_b2\n",
    "        Db_1 += corr_b1\n",
    "        if n % 1000 == 0:\n",
    "            print('| {}, {:.3f}'.format(y, lay2[0][0]), end='')\n",
    "    if n % 1000 == 0:\n",
    "        print(' <', '-' * 3, n)\n",
    "    w2 = w2 - eta * Dw_2\n",
    "    b2 = b2 - eta * Db_2\n",
    "    w1 = w1 - eta * Dw_1\n",
    "    b1 = b1 - eta * Db_1\n",
    "    error[n] /= len(X)"
   ]
  },
  {
   "cell_type": "code",
   "execution_count": 18,
   "metadata": {},
   "outputs": [
    {
     "data": {
      "text/plain": [
       "Text(0.5, 0, 'epoch')"
      ]
     },
     "execution_count": 18,
     "metadata": {},
     "output_type": "execute_result"
    },
    {
     "data": {
      "image/png": "[encoded data removed]",
      "text/plain": [
       "<Figure size 432x288 with 1 Axes>"
      ]
     },
     "metadata": {
      "needs_background": "light"
     },
     "output_type": "display_data"
    }
   ],
   "source": [
    "plt.plot(np.arange(N), error)\n",
    "plt.ylabel('error')\n",
    "plt.xlabel('epoch')"
   ]
  },
  {
   "cell_type": "markdown",
   "metadata": {},
   "source": [
    "# Vanilla Recurrent Neural Network"
   ]
  },
  {
   "cell_type": "markdown",
   "metadata": {},
   "source": [
    "Some people think that RNN are more difficult to understand. Well... conceptually there are some nuances, but implementation is not that difficult.\n",
    "\n",
    "First of all, we need to change the way we think about our problem. Now our $X$ is not simply a pair of numbers, but sequence.\n",
    "\n",
    "```\n",
    "0 -> 0 -> 0\n",
    "1 -> 0 -> 1\n",
    "0 -> 1 -> 1\n",
    "1 -> 1 -> 0\n",
    "```\n",
    "\n",
    "So the rule is, if our sequence of 2 bits consists of the same vales we return 0, if bits differ then we have 1.\n",
    "\n",
    "Let's try to teach our network that."
   ]
  },
  {
   "cell_type": "markdown",
   "metadata": {},
   "source": [
    "Our architecture looks like this:\n",
    "\n",
    "![](img/nn14.png)\n",
    "\n",
    "Quite similar, isn't it?\n",
    "\n",
    "The only difference is recurrent layer with parameters $w_h$ and $b_h$."
   ]
  },
  {
   "cell_type": "code",
   "execution_count": 24,
   "metadata": {},
   "outputs": [],
   "source": [
    "w1 = 2 * np.random.random(size=(1,3)) - 1\n",
    "w2 = 2 * np.random.random(size=(3,1)) - 1\n",
    "b1 = 2 * np.random.random(size=(1,3)) - 1\n",
    "b2 = 2 * np.random.random(size=(1,1)) - 1"
   ]
  },
  {
   "cell_type": "code",
   "execution_count": 25,
   "metadata": {},
   "outputs": [],
   "source": [
    "wh = 2 * np.random.random(size=(3,3)) - 1\n",
    "bh = 2 * np.random.random(size=(1,3)) - 1"
   ]
  },
  {
   "cell_type": "markdown",
   "metadata": {},
   "source": [
    "Since the architecture is so similar, it's easy to guess that most of the equations stay the same.\n",
    "\n",
    "Obviously, there is a difference in layer 1:\n",
    "\n",
    "![](img/nn15.png)"
   ]
  },
  {
   "cell_type": "markdown",
   "metadata": {},
   "source": [
    "The update rules for $w_1$, $w_2$, $b_1$ and $b_2$ look exactly the same. We need to add update rule for recurrent hidden layer.\n",
    "\n",
    "![](img/nn16.png)"
   ]
  },
  {
   "cell_type": "markdown",
   "metadata": {},
   "source": [
    "After adjusting the code, we have:"
   ]
  },
  {
   "cell_type": "code",
   "execution_count": 60,
   "metadata": {},
   "outputs": [],
   "source": [
    "Xr = [(*X[i], Y[i]) for i in range(len(Y))]"
   ]
  },
  {
   "cell_type": "code",
   "execution_count": 22,
   "metadata": {},
   "outputs": [
    {
     "name": "stdout",
     "output_type": "stream",
     "text": [
      "| 0, 0.669| 1, 0.658| 1, 0.670| 0, 0.669 < --- 0\n",
      "| 0, 0.493| 1, 0.464| 1, 0.528| 0, 0.498 < --- 1000\n",
      "| 0, 0.465| 1, 0.408| 1, 0.600| 0, 0.463 < --- 2000\n",
      "| 0, 0.393| 1, 0.346| 1, 0.755| 0, 0.388 < --- 3000\n",
      "| 0, 0.314| 1, 0.575| 1, 0.807| 0, 0.313 < --- 4000\n",
      "| 0, 0.144| 1, 0.848| 1, 0.861| 0, 0.132 < --- 5000\n",
      "| 0, 0.096| 1, 0.904| 1, 0.896| 0, 0.088 < --- 6000\n",
      "| 0, 0.076| 1, 0.926| 1, 0.915| 0, 0.069 < --- 7000\n",
      "| 0, 0.064| 1, 0.938| 1, 0.927| 0, 0.058 < --- 8000\n",
      "| 0, 0.056| 1, 0.947| 1, 0.936| 0, 0.051 < --- 9000\n"
     ]
    }
   ],
   "source": [
    "N = 10000\n",
    "error = np.zeros((N,1))\n",
    "for n in range(N):\n",
    "    for i in range(len(Xr)):\n",
    "        lay1_prev = np.zeros((1,3))\n",
    "        for k in range(2):\n",
    "            x = np.array(Xr[i][k])\n",
    "            y = np.array(Xr[i][k + 1])\n",
    "            # Forward pass, 1st layer\n",
    "            act1 = np.dot(w1.T, x) + b1.T + np.dot(wh, lay1_prev.T) + bh.T # ! NEW\n",
    "            lay1 = sigmoid(act1).T\n",
    "            # Forward pass, 2nd layer\n",
    "            act2 = np.dot(w2.T, lay1.T) + b2\n",
    "            lay2 = sigmoid(act2)\n",
    "            # Computing error\n",
    "            E = 0.5*(lay2 - y)**2\n",
    "            # Backprop, 2nd layer\n",
    "            delta_l2 = (lay2-y) * dsigmoid(lay2)\n",
    "            corr_w2 = (delta_l2 * lay1).T\n",
    "            corr_b2 = delta_l2 * 1\n",
    "            # Backprop, 1st layer\n",
    "            delta_l1 = np.dot(w2, delta_l2) * dsigmoid(lay1).T\n",
    "            corr_w1 = np.outer(x, delta_l1)\n",
    "            corr_b1 = (delta_l1 * 1).T\n",
    "            # Backprob, recurrent layer\n",
    "            corr_wh = np.outer(lay1_prev, delta_l1) # ! NEW\n",
    "            corr_bh = (delta_l1 * 1).T              # ! NEW\n",
    "            lay1_prev = np.copy(lay1)      # ! NEW\n",
    "            w2 = w2 - eta * corr_w2\n",
    "            b2 = b2 - eta * corr_b2\n",
    "            w1 = w1 - eta * corr_w1\n",
    "            b1 = b1 - eta * corr_b1\n",
    "            wh = wh - eta * corr_wh # ! NEW\n",
    "            bh = bh - eta * corr_bh # ! NEW\n",
    "        if n % 1000 == 0:\n",
    "            print('| {}, {:.3f}'.format(y, lay2[0][0]), end='')\n",
    "    if n % 1000 == 0:\n",
    "        print(' <', '-' * 3, n)\n",
    "    error[n] /= len(X)"
   ]
  },
  {
   "cell_type": "code",
   "execution_count": 23,
   "metadata": {},
   "outputs": [
    {
     "data": {
      "text/plain": [
       "Text(0.5, 0, 'epoch')"
      ]
     },
     "execution_count": 23,
     "metadata": {},
     "output_type": "execute_result"
    },
    {
     "data": {
      "image/png": "[encoded data removed]",
      "text/plain": [
       "<Figure size 432x288 with 1 Axes>"
      ]
     },
     "metadata": {
      "needs_background": "light"
     },
     "output_type": "display_data"
    }
   ],
   "source": [
    "plt.plot(np.arange(N), error)\n",
    "plt.ylabel('error')\n",
    "plt.xlabel('epoch')"
   ]
  },
  {
   "cell_type": "code",
   "execution_count": null,
   "metadata": {},
   "outputs": [],
   "source": []
  },
  {
   "cell_type": "code",
   "execution_count": null,
   "metadata": {},
   "outputs": [],
   "source": []
  }
 ],
 "metadata": {
  "kernelspec": {
   "display_name": "Python 3",
   "language": "python",
   "name": "python3"
  },
  "language_info": {
   "codemirror_mode": {
    "name": "ipython",
    "version": 3
   },
   "file_extension": ".py",
   "mimetype": "text/x-python",
   "name": "python",
   "nbconvert_exporter": "python",
   "pygments_lexer": "ipython3",
   "version": "3.5.6"
  }
 },
 "nbformat": 4,
 "nbformat_minor": 2
}
