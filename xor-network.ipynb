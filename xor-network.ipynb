{
 "cells": [
  {
   "cell_type": "markdown",
   "metadata": {},
   "source": [
    "# Neural networks handcrafted"
   ]
  },
  {
   "cell_type": "markdown",
   "metadata": {},
   "source": [
    "by Dominik Krzemiński\n",
    "(26/11/18)"
   ]
  },
  {
   "cell_type": "code",
   "execution_count": 1,
   "metadata": {},
   "outputs": [],
   "source": [
    "from __future__ import print_function\n",
    "import numpy as np\n",
    "import matplotlib.pyplot as plt\n",
    "\n",
    "%matplotlib inline"
   ]
  },
  {
   "cell_type": "markdown",
   "metadata": {},
   "source": [
    "**Goal**: teach simple network XOR"
   ]
  },
  {
   "cell_type": "markdown",
   "metadata": {},
   "source": [
    "![](img/nn1.png)"
   ]
  },
  {
   "cell_type": "markdown",
   "metadata": {},
   "source": [
    "# Vanilla Neural Network"
   ]
  },
  {
   "cell_type": "markdown",
   "metadata": {},
   "source": [
    "Below we create numerical representation of this simple problem:"
   ]
  },
  {
   "cell_type": "code",
   "execution_count": 2,
   "metadata": {},
   "outputs": [],
   "source": [
    "X = [(0,0), (1,0), (0,1), (1,1)]\n",
    "Y = [0, 1, 1, 0]"
   ]
  },
  {
   "cell_type": "markdown",
   "metadata": {},
   "source": [
    "We will use the following architecture:\n",
    "![](img/nn2.png)\n",
    "which gives a number of parameters:\n",
    "![](img/nn3.png)"
   ]
  },
  {
   "cell_type": "markdown",
   "metadata": {},
   "source": [
    "Let's define our parameter vector according to this. Additionaly, I define $\\eta$ learning rate. We will play around this later."
   ]
  },
  {
   "cell_type": "code",
   "execution_count": 3,
   "metadata": {},
   "outputs": [],
   "source": [
    "eta = 0.1"
   ]
  },
  {
   "cell_type": "code",
   "execution_count": 4,
   "metadata": {},
   "outputs": [],
   "source": [
    "w1 = 2 * np.random.random(size=(2,3)) - 1\n",
    "w2 = 2 * np.random.random(size=(3,1)) - 1\n",
    "b1 = 2 * np.random.random(size=(1,3)) - 1\n",
    "b2 = 2 * np.random.random(size=(1,1)) - 1"
   ]
  },
  {
   "cell_type": "markdown",
   "metadata": {},
   "source": [
    "Typical neuron performs the operation of sum of weighted input and thresholding the activation $a$.\n",
    "\n",
    "![](img/nn4.png)"
   ]
  },
  {
   "cell_type": "markdown",
   "metadata": {},
   "source": [
    "Our activation funtion is sigmoid (you can learn more here: https://en.wikipedia.org/wiki/Sigmoid_function):\n",
    "\n",
    "![](img/nn5.png)"
   ]
  },
  {
   "cell_type": "markdown",
   "metadata": {},
   "source": [
    "Let's compute the first derivative as we might need it later.\n",
    "\n",
    "![](img/nn6.png)\n",
    "\n",
    "Yeah, that's a good moment to appreciate simplicity of the above formula. That's one of the reasons why ML researchers like this function."
   ]
  },
  {
   "cell_type": "code",
   "execution_count": 5,
   "metadata": {},
   "outputs": [],
   "source": [
    "def sigmoid(x):\n",
    "    return 1./(1 + np.exp(-x))\n",
    "\n",
    "def dsigmoid(y):\n",
    "    return y*(1-y)"
   ]
  },
  {
   "cell_type": "code",
   "execution_count": 6,
   "metadata": {},
   "outputs": [],
   "source": [
    "x = np.array(X[0])\n",
    "y = np.array(Y[0])"
   ]
  },
  {
   "cell_type": "markdown",
   "metadata": {},
   "source": [
    "We perform forward pass first:\n",
    "\n",
    "![](img/nn7.png)"
   ]
  },
  {
   "cell_type": "code",
   "execution_count": 7,
   "metadata": {},
   "outputs": [],
   "source": [
    "act1 = np.dot(w1.T, x) + b1\n",
    "lay1 = sigmoid(act1)"
   ]
  },
  {
   "cell_type": "code",
   "execution_count": 8,
   "metadata": {},
   "outputs": [],
   "source": [
    "act2 = np.dot(w2.T, lay1.T) + b2\n",
    "lay2 = sigmoid(act2)"
   ]
  },
  {
   "cell_type": "markdown",
   "metadata": {},
   "source": [
    "Since we have reached the last layer, we can compute the error of our prediction.\n",
    "![](img/nn9.png)"
   ]
  },
  {
   "cell_type": "code",
   "execution_count": 9,
   "metadata": {},
   "outputs": [],
   "source": [
    "E = 0.5 * (y - lay2)**2"
   ]
  },
  {
   "cell_type": "markdown",
   "metadata": {},
   "source": [
    "Now, we propagate this error backwards, starting from the last layer. We need to use the chain rule to get a formula for the update.\n",
    "\n",
    "For weights it looks like this:\n",
    "\n",
    "![](img/nn10.png)\n",
    "\n",
    "and for bias like this:\n",
    "\n",
    "![](img/nn11.png)"
   ]
  },
  {
   "cell_type": "code",
   "execution_count": 10,
   "metadata": {},
   "outputs": [],
   "source": [
    "delta_l2 = (y-lay2) * dsigmoid(act2)\n",
    "corr_w2 = delta_l2 * lay1\n",
    "corr_b2 = delta_l2 * 1"
   ]
  },
  {
   "cell_type": "markdown",
   "metadata": {},
   "source": [
    "Finally, we can update our weights using the gradient descent. Note, how every word makes sense here.\n",
    "- gradient $\\frac{d E}{d w}$\n",
    "- descent \"-\"\n",
    "\n",
    "![](img/nn8.png)"
   ]
  },
  {
   "cell_type": "code",
   "execution_count": 11,
   "metadata": {},
   "outputs": [],
   "source": [
    "w2 = w2 - eta * corr_w2.T\n",
    "b2 = b2 - eta * corr_b2"
   ]
  },
  {
   "cell_type": "markdown",
   "metadata": {},
   "source": [
    "Layer 1 update is a little bit more complicated, as we have to use the chain rule twice:\n",
    "\n",
    "![](img/nn12.png)\n",
    "\n",
    "Try making it by yourself for bias.\n",
    "\n",
    "![](img/nn13.png)\n"
   ]
  },
  {
   "cell_type": "code",
   "execution_count": 12,
   "metadata": {},
   "outputs": [],
   "source": [
    "delta_l1 = np.dot(w2, delta_l2) * dsigmoid(act1).T\n",
    "corr_w1 = np.outer(x, delta_l1)\n",
    "corr_b1 = delta_l1 * 1"
   ]
  },
  {
   "cell_type": "markdown",
   "metadata": {},
   "source": [
    "We update the parameters, similarly as above."
   ]
  },
  {
   "cell_type": "code",
   "execution_count": 13,
   "metadata": {},
   "outputs": [],
   "source": [
    "w1 = w1 - eta * corr_w1\n",
    "b1 = b1 - eta * corr_b1.T"
   ]
  },
  {
   "cell_type": "markdown",
   "metadata": {},
   "source": [
    "Finally, we can put this together:"
   ]
  },
  {
   "cell_type": "code",
   "execution_count": 14,
   "metadata": {},
   "outputs": [
    {
     "name": "stdout",
     "output_type": "stream",
     "text": [
      "| 0, 0.349| 1, 0.383| 1, 0.394| 0, 0.434 < --- 0\n",
      "| 0, 0.425| 1, 0.514| 1, 0.524| 0, 0.574 < --- 1000\n",
      "| 0, 0.301| 1, 0.584| 1, 0.575| 0, 0.636 < --- 2000\n",
      "| 0, 0.215| 1, 0.657| 1, 0.628| 0, 0.522 < --- 3000\n",
      "| 0, 0.147| 1, 0.816| 1, 0.816| 0, 0.224 < --- 4000\n",
      "| 0, 0.097| 1, 0.889| 1, 0.889| 0, 0.130 < --- 5000\n",
      "| 0, 0.074| 1, 0.917| 1, 0.917| 0, 0.095 < --- 6000\n",
      "| 0, 0.061| 1, 0.932| 1, 0.933| 0, 0.077 < --- 7000\n",
      "| 0, 0.052| 1, 0.942| 1, 0.942| 0, 0.066 < --- 8000\n",
      "| 0, 0.047| 1, 0.948| 1, 0.949| 0, 0.059 < --- 9000\n"
     ]
    }
   ],
   "source": [
    "# Number of epochs\n",
    "# ... or in other words:\n",
    "# how many times we show our network all examples\n",
    "N = 10000 \n",
    "\n",
    "error = np.zeros((N,1))\n",
    "\n",
    "for n in range(N):\n",
    "    for i in range(len(X)): # iterate over all examples\n",
    "        x = np.array(X[i])\n",
    "        y = np.array(Y[i])\n",
    "        # Forward pass, 1st layer\n",
    "        act1 = np.dot(w1.T, x) + b1\n",
    "        lay1 = sigmoid(act1)\n",
    "        # Forward pass, 2nd layer\n",
    "        act2 = np.dot(w2.T, lay1.T) + b2\n",
    "        lay2 = sigmoid(act2)\n",
    "        # Computing error\n",
    "        E = 0.5*(lay2 - y)**2\n",
    "        error[n] += E[0]\n",
    "        # Backprop, 2nd layer\n",
    "        delta_l2 = (lay2-y) * dsigmoid(lay2)\n",
    "        corr_w2 = (delta_l2 * lay1).T\n",
    "        corr_b2 = delta_l2 * 1\n",
    "        # Backprop, 1st layer\n",
    "        delta_l1 = np.dot(w2, delta_l2) * dsigmoid(lay1).T\n",
    "        corr_w1 = np.outer(x, delta_l1)\n",
    "        corr_b1 = (delta_l1 * 1).T\n",
    "        w2 = w2 - eta * corr_w2\n",
    "        b2 = b2 - eta * corr_b2\n",
    "        w1 = w1 - eta * corr_w1\n",
    "        b1 = b1 - eta * corr_b1\n",
    "        if n % 1000 == 0:\n",
    "            print('| {}, {:.3f}'.format(y, lay2[0][0]), end='')\n",
    "    if n % 1000 == 0:\n",
    "        print(' <', '-' * 3, n)\n",
    "    error[n] /= len(X)"
   ]
  },
  {
   "cell_type": "code",
   "execution_count": 15,
   "metadata": {},
   "outputs": [
    {
     "data": {
      "text/plain": [
       "<matplotlib.text.Text at 0x1179c5198>"
      ]
     },
     "execution_count": 15,
     "metadata": {},
     "output_type": "execute_result"
    },
    {
     "data": {
      "image/png": "[encoded data removed]",
      "text/plain": [
       "<matplotlib.figure.Figure at 0x1179a6160>"
      ]
     },
     "metadata": {
      "needs_background": "light"
     },
     "output_type": "display_data"
    }
   ],
   "source": [
    "plt.plot(np.arange(N), error)\n",
    "plt.ylabel('error')\n",
    "plt.xlabel('epoch')"
   ]
  },
  {
   "cell_type": "markdown",
   "metadata": {},
   "source": [
    "Above we implemented so called stochastic gradient descent. We update weights right after seeing a new example.\n",
    "\n",
    "Below we slightly change our code to follow batch gradient descent schema. We update parameters after seeing a batch of examples. In  our case all four."
   ]
  },
  {
   "cell_type": "code",
   "execution_count": 16,
   "metadata": {},
   "outputs": [],
   "source": [
    "w1 = 2 * np.random.random(size=(2,3)) - 1\n",
    "w2 = 2 * np.random.random(size=(3,1)) - 1\n",
    "b1 = 2 * np.random.random(size=(1,3)) - 1\n",
    "b2 = 2 * np.random.random(size=(1,1)) - 1"
   ]
  },
  {
   "cell_type": "code",
   "execution_count": 17,
   "metadata": {},
   "outputs": [
    {
     "name": "stdout",
     "output_type": "stream",
     "text": [
      "| 0, 0.335| 1, 0.355| 1, 0.346| 0, 0.361 < --- 0\n",
      "| 0, 0.471| 1, 0.615| 1, 0.447| 0, 0.449 < --- 1000\n",
      "| 0, 0.308| 1, 0.765| 1, 0.661| 0, 0.245 < --- 2000\n",
      "| 0, 0.142| 1, 0.874| 1, 0.859| 0, 0.113 < --- 3000\n",
      "| 0, 0.095| 1, 0.912| 1, 0.909| 0, 0.077 < --- 4000\n",
      "| 0, 0.074| 1, 0.930| 1, 0.930| 0, 0.061 < --- 5000\n",
      "| 0, 0.062| 1, 0.941| 1, 0.942| 0, 0.051 < --- 6000\n",
      "| 0, 0.054| 1, 0.948| 1, 0.950| 0, 0.045 < --- 7000\n",
      "| 0, 0.049| 1, 0.953| 1, 0.955| 0, 0.041 < --- 8000\n",
      "| 0, 0.044| 1, 0.957| 1, 0.959| 0, 0.037 < --- 9000\n"
     ]
    }
   ],
   "source": [
    "N = 10000\n",
    "error = np.zeros((N,1))\n",
    "for n in range(N):\n",
    "    Dw_1 = np.zeros((2,3))\n",
    "    Dw_2 = np.zeros((3,1))\n",
    "    Db_1 = np.zeros((1,3))\n",
    "    Db_2 = np.zeros((1,1))\n",
    "\n",
    "    for i in range(len(X)): # iterate over all examples\n",
    "        x = np.array(X[i])\n",
    "        y = np.array(Y[i])\n",
    "        # Forward pass, 1st layer\n",
    "        act1 = np.dot(w1.T, x) + b1\n",
    "        lay1 = sigmoid(act1)\n",
    "        # Forward pass, 2nd layer\n",
    "        act2 = np.dot(w2.T, lay1.T) + b2\n",
    "        lay2 = sigmoid(act2)\n",
    "        # Computing error\n",
    "        E = 0.5*(lay2 - y)**2\n",
    "        error[n] += E[0]\n",
    "        # Backprop, 2nd layer\n",
    "        delta_l2 = (lay2-y) * dsigmoid(lay2)\n",
    "        corr_w2 = (delta_l2 * lay1).T\n",
    "        corr_b2 = delta_l2 * 1\n",
    "        # Backprop, 1st layer\n",
    "        delta_l1 = np.dot(w2, delta_l2) * dsigmoid(lay1).T\n",
    "        corr_w1 = np.outer(x, delta_l1)\n",
    "        corr_b1 = (delta_l1 * 1).T\n",
    "        Dw_2 += corr_w2\n",
    "        Dw_1 += corr_w1\n",
    "        Db_2 += corr_b2\n",
    "        Db_1 += corr_b1\n",
    "        if n % 1000 == 0:\n",
    "            print('| {}, {:.3f}'.format(y, lay2[0][0]), end='')\n",
    "    if n % 1000 == 0:\n",
    "        print(' <', '-' * 3, n)\n",
    "    w2 = w2 - eta * Dw_2\n",
    "    b2 = b2 - eta * Db_2\n",
    "    w1 = w1 - eta * Dw_1\n",
    "    b1 = b1 - eta * Db_1\n",
    "    error[n] /= len(X)"
   ]
  },
  {
   "cell_type": "code",
   "execution_count": 18,
   "metadata": {},
   "outputs": [
    {
     "data": {
      "text/plain": [
       "<matplotlib.text.Text at 0x1179ed710>"
      ]
     },
     "execution_count": 18,
     "metadata": {},
     "output_type": "execute_result"
    },
    {
     "data": {
      "image/png": "[encoded data removed]",
      "text/plain": [
       "<matplotlib.figure.Figure at 0x117cc4f28>"
      ]
     },
     "metadata": {
      "needs_background": "light"
     },
     "output_type": "display_data"
    }
   ],
   "source": [
    "plt.plot(np.arange(N), error)\n",
    "plt.ylabel('error')\n",
    "plt.xlabel('epoch')"
   ]
  },
  {
   "cell_type": "markdown",
   "metadata": {},
   "source": [
    "Is there anything you can notice by comparing these two graphs?"
   ]
  },
  {
   "cell_type": "markdown",
   "metadata": {},
   "source": [
    "# Vanilla Recurrent Neural Network"
   ]
  },
  {
   "cell_type": "markdown",
   "metadata": {},
   "source": [
    "Some people think that RNN are more difficult to understand. Well... conceptually there are some nuances, but implementation is not that difficult.\n",
    "\n",
    "First of all, we need to change the way we think about our problem. Now our $X_r$ is not simply a pair of numbers, but a sequence. We will try to teach our network slightly different problem. To recognise that 1 should follow only two preceding zeros.\n",
    "\n",
    "```\n",
    "0 -> 0 -> 1\n",
    "1 -> 0 -> 0\n",
    "0 -> 1 -> 0\n",
    "1 -> 1 -> 0\n",
    "```\n",
    "\n",
    "Let's try to teach our network that."
   ]
  },
  {
   "cell_type": "markdown",
   "metadata": {},
   "source": [
    "Our architecture looks like this:\n",
    "\n",
    "![](img/nn14.png)\n",
    "\n",
    "Quite similar, isn't it?\n",
    "\n",
    "The only difference is the recurrent layer with parameters $w_h$ and $b_h$."
   ]
  },
  {
   "cell_type": "code",
   "execution_count": 19,
   "metadata": {},
   "outputs": [],
   "source": [
    "w1 = 2 * np.random.random(size=(1,3)) - 1\n",
    "w2 = 2 * np.random.random(size=(3,1)) - 1\n",
    "b1 = 2 * np.random.random(size=(1,3)) - 1\n",
    "b2 = 2 * np.random.random(size=(1,1)) - 1"
   ]
  },
  {
   "cell_type": "code",
   "execution_count": 20,
   "metadata": {},
   "outputs": [],
   "source": [
    "wh = 2 * np.random.random(size=(3,3)) - 1\n",
    "bh = 2 * np.random.random(size=(1,3)) - 1"
   ]
  },
  {
   "cell_type": "markdown",
   "metadata": {},
   "source": [
    "Since the architecture is so similar, it's easy to guess that most of the equations stay the same.\n",
    "\n",
    "Obviously, there is a difference in layer 1:\n",
    "\n",
    "![](img/nn15.png)"
   ]
  },
  {
   "cell_type": "markdown",
   "metadata": {},
   "source": [
    "Backpropagation is more difficult, because $l^{t-1}_1$ depends on $w_h$, $b_h$ as well.\n",
    "\n",
    "However, in this implementation, we will take some simplifying assumptions."
   ]
  },
  {
   "cell_type": "code",
   "execution_count": 21,
   "metadata": {},
   "outputs": [],
   "source": [
    "Xr = [[0,0,1], [1,1,0], [1,0,0], [0,1,0]]"
   ]
  },
  {
   "cell_type": "markdown",
   "metadata": {},
   "source": [
    "The main difference in adjusting the previous code lays in the time-step propagation. Notice variables `lay1_mem` and `lay2_mem` that contain previous values of layers 1 and 2 respectively (`mem` stands for memory). We need to \"remember\" previous values in order to propagate the error backwards in time. I hope that it agrees with intuitive behaviour of recurrent neural networks."
   ]
  },
  {
   "cell_type": "code",
   "execution_count": 22,
   "metadata": {},
   "outputs": [
    {
     "name": "stdout",
     "output_type": "stream",
     "text": [
      "0 - > 0 (0.670|1)0 - > 1 (0.670|1) < --- 0\n",
      "1 - > 1 (0.668|1)1 - > 0 (0.686|1) < --- 0\n",
      "1 - > 0 (0.665|1)0 - > 0 (0.681|1) < --- 0\n",
      "0 - > 1 (0.653|1)1 - > 0 (0.654|1) < --- 0\n",
      "0 - > 0 (0.579|1)0 - > 1 (0.465|0) < --- 1000\n",
      "1 - > 1 (0.343|0)1 - > 0 (0.180|0) < --- 1000\n",
      "1 - > 0 (0.351|0)0 - > 0 (0.400|0) < --- 1000\n",
      "0 - > 1 (0.575|1)1 - > 0 (0.227|0) < --- 1000\n",
      "0 - > 0 (0.627|1)0 - > 1 (0.483|0) < --- 2000\n",
      "1 - > 1 (0.382|0)1 - > 0 (0.112|0) < --- 2000\n",
      "1 - > 0 (0.395|0)0 - > 0 (0.336|0) < --- 2000\n",
      "0 - > 1 (0.624|1)1 - > 0 (0.211|0) < --- 2000\n",
      "0 - > 0 (0.649|1)0 - > 1 (0.519|1) < --- 3000\n",
      "1 - > 1 (0.384|0)1 - > 0 (0.074|0) < --- 3000\n",
      "1 - > 0 (0.403|0)0 - > 0 (0.280|0) < --- 3000\n",
      "0 - > 1 (0.647|1)1 - > 0 (0.223|0) < --- 3000\n",
      "0 - > 0 (0.662|1)0 - > 1 (0.555|1) < --- 4000\n",
      "1 - > 1 (0.378|0)1 - > 0 (0.049|0) < --- 4000\n",
      "1 - > 0 (0.402|0)0 - > 0 (0.230|0) < --- 4000\n",
      "0 - > 1 (0.661|1)1 - > 0 (0.238|0) < --- 4000\n",
      "0 - > 0 (0.665|1)0 - > 1 (0.587|1) < --- 5000\n",
      "1 - > 1 (0.379|0)1 - > 0 (0.031|0) < --- 5000\n",
      "1 - > 0 (0.406|0)0 - > 0 (0.197|0) < --- 5000\n",
      "0 - > 1 (0.664|1)1 - > 0 (0.237|0) < --- 5000\n",
      "0 - > 0 (0.659|1)0 - > 1 (0.632|1) < --- 6000\n",
      "1 - > 1 (0.394|0)1 - > 0 (0.017|0) < --- 6000\n",
      "1 - > 0 (0.423|0)0 - > 0 (0.159|0) < --- 6000\n",
      "0 - > 1 (0.658|1)1 - > 0 (0.217|0) < --- 6000\n",
      "0 - > 0 (0.621|1)0 - > 1 (0.712|1) < --- 7000\n",
      "1 - > 1 (0.434|0)1 - > 0 (0.008|0) < --- 7000\n",
      "1 - > 0 (0.465|0)0 - > 0 (0.095|0) < --- 7000\n",
      "0 - > 1 (0.617|1)1 - > 0 (0.169|0) < --- 7000\n",
      "0 - > 0 (0.565|1)0 - > 1 (0.794|1) < --- 8000\n",
      "1 - > 1 (0.464|0)1 - > 0 (0.005|0) < --- 8000\n",
      "1 - > 0 (0.499|0)0 - > 0 (0.053|0) < --- 8000\n",
      "0 - > 1 (0.558|1)1 - > 0 (0.119|0) < --- 8000\n",
      "0 - > 0 (0.537|1)0 - > 1 (0.845|1) < --- 9000\n",
      "1 - > 1 (0.475|0)1 - > 0 (0.005|0) < --- 9000\n",
      "1 - > 0 (0.513|1)0 - > 0 (0.036|0) < --- 9000\n",
      "0 - > 1 (0.528|1)1 - > 0 (0.090|0) < --- 9000\n"
     ]
    }
   ],
   "source": [
    "N = 10000\n",
    "error = np.zeros((N,1))\n",
    "\n",
    "corr_w1 = np.zeros((1,3))\n",
    "corr_b1 = np.zeros((1,3))\n",
    "corr_w2 = np.zeros((3,1))\n",
    "corr_b2 = np.zeros((1,1))\n",
    "corr_wh = np.zeros((3,3))\n",
    "corr_bh = np.zeros((1,3))\n",
    "\n",
    "for n in range(N):\n",
    "    for i in range(len(Xr)):\n",
    "        lay1_mem = [np.zeros((1,3))]  # ! NEW\n",
    "        lay2_mem = []                  # ! NEW\n",
    "        for k in range(2):             # ! NEW\n",
    "            x = np.array(Xr[i][k])\n",
    "            y = np.array(Xr[i][k + 1])\n",
    "            # Forward pass, 1st layer\n",
    "            act1 = np.dot(w1.T, x) + b1.T + (np.dot(lay1_mem[-1], wh) + bh).T # ! NEW\n",
    "            lay1 = sigmoid(act1).T\n",
    "            # Forward pass, 2nd layer\n",
    "            act2 = np.dot(w2.T, lay1.T) + b2\n",
    "            lay2 = sigmoid(act2)\n",
    "            # Computing error\n",
    "            E = 0.5*(lay2 - y)**2\n",
    "            error[n] += E[0]\n",
    "            lay1_mem.append(np.copy(lay1))      # ! NEW\n",
    "            lay2_mem.append(np.copy(lay2))       # ! NEW\n",
    "            if n % 1000 == 0:\n",
    "                print('{} - > {} ({:.3f}|{:.0f})'.format(x, y, lay2[0][0], 1.*(lay2[0][0]>0.5)), end='')\n",
    "        for k in range(1,-1,-1):                 # ! NEW\n",
    "            x = np.array(Xr[i][k])\n",
    "            y = np.array(Xr[i][k + 1])\n",
    "            # Backprop, 2nd layer\n",
    "            delta_l2 = (lay2_mem[k]-y) * dsigmoid(lay2_mem[k])\n",
    "            corr_w2 += (delta_l2 * lay1_mem[k+1]).T\n",
    "            corr_b2 += delta_l2 * 1\n",
    "            # Backprop, 1st layer\n",
    "            delta_l1 = np.dot(w2, delta_l2) * dsigmoid(lay1_mem[k+1]).T\n",
    "            corr_w1 += np.outer(x, delta_l1)\n",
    "            corr_b1 += (delta_l1 * 1).T\n",
    "            # Backprob, recurrent layer\n",
    "            corr_wh += np.outer(lay1_mem[k], delta_l1) # ! NEW\n",
    "            corr_bh += (delta_l1 * 1).T                 # ! NEW\n",
    "        w2 = w2 - eta * corr_w2\n",
    "        b2 = b2 - eta * corr_b2\n",
    "        w1 = w1 - eta * corr_w1\n",
    "        b1 = b1 - eta * corr_b1\n",
    "        wh = wh - eta * corr_wh # ! NEW\n",
    "        bh = bh - eta * corr_bh # ! NEW\n",
    "        corr_w2 *= 0\n",
    "        corr_b2 *= 0\n",
    "        corr_w1 *= 0\n",
    "        corr_b1 *= 0\n",
    "        corr_wh *= 0\n",
    "        corr_bh *= 0\n",
    "        if n % 1000 == 0:\n",
    "            print(' <', '-' * 3, n)\n",
    "    error[n] /= len(X)*2"
   ]
  },
  {
   "cell_type": "code",
   "execution_count": 23,
   "metadata": {},
   "outputs": [
    {
     "data": {
      "text/plain": [
       "<matplotlib.text.Text at 0x117c63b00>"
      ]
     },
     "execution_count": 23,
     "metadata": {},
     "output_type": "execute_result"
    },
    {
     "data": {
      "image/png": "[encoded data removed]",
      "text/plain": [
       "<matplotlib.figure.Figure at 0x1179ed470>"
      ]
     },
     "metadata": {
      "needs_background": "light"
     },
     "output_type": "display_data"
    }
   ],
   "source": [
    "plt.plot(np.arange(N), error)\n",
    "plt.ylabel('error')\n",
    "plt.xlabel('epoch')"
   ]
  }
 ],
 "metadata": {
  "kernelspec": {
   "display_name": "Python 3",
   "language": "python",
   "name": "python3"
  },
  "language_info": {
   "codemirror_mode": {
    "name": "ipython",
    "version": 3
   },
   "file_extension": ".py",
   "mimetype": "text/x-python",
   "name": "python",
   "nbconvert_exporter": "python",
   "pygments_lexer": "ipython3",
   "version": "3.6.6"
  }
 },
 "nbformat": 4,
 "nbformat_minor": 2
}
