{
 "cells": [
  {
   "cell_type": "markdown",
   "metadata": {},
   "source": [
    "# Neural networks handcrafted"
   ]
  },
  {
   "cell_type": "markdown",
   "metadata": {},
   "source": [
    "by Dominik Krzemiński\n",
    "(26/11/18)"
   ]
  },
  {
   "cell_type": "code",
   "execution_count": 1,
   "metadata": {},
   "outputs": [],
   "source": [
    "from __future__ import print_function\n",
    "import numpy as np\n",
    "import matplotlib.pyplot as plt\n",
    "\n",
    "%matplotlib inline"
   ]
  },
  {
   "cell_type": "markdown",
   "metadata": {},
   "source": [
    "**Goal**: teach simple network XOR"
   ]
  },
  {
   "cell_type": "markdown",
   "metadata": {},
   "source": [
    "![](img/nn1.png)"
   ]
  },
  {
   "cell_type": "markdown",
   "metadata": {},
   "source": [
    "# Vanilla Neural Network"
   ]
  },
  {
   "cell_type": "markdown",
   "metadata": {},
   "source": [
    "Below we create numerical representation of this simple problem:"
   ]
  },
  {
   "cell_type": "code",
   "execution_count": 2,
   "metadata": {},
   "outputs": [],
   "source": [
    "X = [(0,0), (1,0), (0,1), (1,1)]\n",
    "Y = [0, 1, 1, 0]"
   ]
  },
  {
   "cell_type": "markdown",
   "metadata": {},
   "source": [
    "We wil use the following architecture:\n",
    "![](img/nn2.png)\n",
    "which gives a number of parameters:\n",
    "![](img/nn3.png)"
   ]
  },
  {
   "cell_type": "markdown",
   "metadata": {},
   "source": [
    "Let's define our parameter vector according to this. Additionaly, I define $\\eta$ learning rate. We will play around this later."
   ]
  },
  {
   "cell_type": "code",
   "execution_count": 3,
   "metadata": {},
   "outputs": [],
   "source": [
    "eta = 0.1"
   ]
  },
  {
   "cell_type": "code",
   "execution_count": 4,
   "metadata": {},
   "outputs": [],
   "source": [
    "w1 = 2 * np.random.random(size=(2,3)) - 1\n",
    "w2 = 2 * np.random.random(size=(3,1)) - 1\n",
    "b1 = 2 * np.random.random(size=(1,3)) - 1\n",
    "b2 = 2 * np.random.random(size=(1,1)) - 1"
   ]
  },
  {
   "cell_type": "markdown",
   "metadata": {},
   "source": [
    "Typical neuron performs the operation of sum of weighted input and thresholding the activation $a$.\n",
    "\n",
    "![](img/nn4.png)"
   ]
  },
  {
   "cell_type": "markdown",
   "metadata": {},
   "source": [
    "Our activation funtion is sigmoid (you can learn more here: https://en.wikipedia.org/wiki/Sigmoid_function):\n",
    "\n",
    "![](img/nn5.png)"
   ]
  },
  {
   "cell_type": "markdown",
   "metadata": {},
   "source": [
    "Let's compute the first derivative as we might need it later.\n",
    "\n",
    "![](img/nn6.png)\n",
    "\n",
    "Yeah, that's a good moment to appreciate simplicity of the above formula. That's one of the reasons why ML researchers like this function."
   ]
  },
  {
   "cell_type": "code",
   "execution_count": 5,
   "metadata": {},
   "outputs": [],
   "source": [
    "def sigmoid(x):\n",
    "    return 1./(1 + np.exp(-x))\n",
    "\n",
    "def dsigmoid(y):\n",
    "    return y*(1-y)"
   ]
  },
  {
   "cell_type": "code",
   "execution_count": 6,
   "metadata": {},
   "outputs": [],
   "source": [
    "x = np.array(X[0])\n",
    "y = np.array(Y[0])"
   ]
  },
  {
   "cell_type": "markdown",
   "metadata": {},
   "source": [
    "We perform forward pass first:\n",
    "\n",
    "![](img/nn7.png)"
   ]
  },
  {
   "cell_type": "code",
   "execution_count": 7,
   "metadata": {},
   "outputs": [],
   "source": [
    "act1 = np.dot(w1.T, x) + b1\n",
    "lay1 = sigmoid(act1)"
   ]
  },
  {
   "cell_type": "code",
   "execution_count": 8,
   "metadata": {},
   "outputs": [],
   "source": [
    "act2 = np.dot(w2.T, lay1.T) + b2\n",
    "lay2 = sigmoid(act2)"
   ]
  },
  {
   "cell_type": "markdown",
   "metadata": {},
   "source": [
    "Since we have reached the last layer, we can compute the error of our prediction.\n",
    "![](img/nn9.png)"
   ]
  },
  {
   "cell_type": "code",
   "execution_count": 9,
   "metadata": {},
   "outputs": [],
   "source": [
    "E = 0.5 * (y - lay2)**2"
   ]
  },
  {
   "cell_type": "markdown",
   "metadata": {},
   "source": [
    "Now, we propagate this error backwards, starting from the last layer. We need to use the chain rule to get a formula for the update.\n",
    "\n",
    "For weights it looks like this:\n",
    "\n",
    "![](img/nn10.png)\n",
    "\n",
    "and for bias like this:\n",
    "\n",
    "![](img/nn11.png)"
   ]
  },
  {
   "cell_type": "code",
   "execution_count": 10,
   "metadata": {},
   "outputs": [],
   "source": [
    "delta_l2 = (y-lay2) * dsigmoid(act2)\n",
    "corr_w2 = delta_l2 * lay1\n",
    "corr_b2 = delta_l2 * 1"
   ]
  },
  {
   "cell_type": "markdown",
   "metadata": {},
   "source": [
    "Finally, we can update our weights using the gradient descent. Note, how every word makes sense here.\n",
    "- gradient $\\frac{d E}{d w}$\n",
    "- descent \"-\"\n",
    "\n",
    "![](img/nn8.png)"
   ]
  },
  {
   "cell_type": "code",
   "execution_count": 11,
   "metadata": {},
   "outputs": [],
   "source": [
    "w2 = w2 - eta * corr_w2.T\n",
    "b2 = b2 - eta * corr_b2"
   ]
  },
  {
   "cell_type": "markdown",
   "metadata": {},
   "source": [
    "Layer 1 update is a little bit more complicated, as we have to use the chain rule twice:\n",
    "\n",
    "![](img/nn12.png)\n",
    "\n",
    "Try making it by yourself for bias.\n",
    "\n",
    "![](img/nn13.png)\n"
   ]
  },
  {
   "cell_type": "code",
   "execution_count": 12,
   "metadata": {},
   "outputs": [],
   "source": [
    "delta_l1 = np.dot(w2, delta_l2) * dsigmoid(act1).T\n",
    "corr_w1 = np.outer(x, delta_l1)\n",
    "corr_b1 = delta_l1 * 1"
   ]
  },
  {
   "cell_type": "markdown",
   "metadata": {},
   "source": [
    "We update the parameters, similarly as above."
   ]
  },
  {
   "cell_type": "code",
   "execution_count": 13,
   "metadata": {},
   "outputs": [],
   "source": [
    "w1 = w1 - eta * corr_w1\n",
    "b1 = b1 - eta * corr_b1.T"
   ]
  },
  {
   "cell_type": "markdown",
   "metadata": {},
   "source": [
    "Finally, we can put this together:"
   ]
  },
  {
   "cell_type": "code",
   "execution_count": 14,
   "metadata": {},
   "outputs": [
    {
     "name": "stdout",
     "output_type": "stream",
     "text": [
      "| 0, 0.206| 1, 0.236| 1, 0.187| 0, 0.221 < --- 0\n",
      "| 0, 0.490| 1, 0.510| 1, 0.485| 0, 0.513 < --- 1000\n",
      "| 0, 0.475| 1, 0.523| 1, 0.476| 0, 0.515 < --- 2000\n",
      "| 0, 0.371| 1, 0.606| 1, 0.463| 0, 0.527 < --- 3000\n",
      "| 0, 0.194| 1, 0.739| 1, 0.511| 0, 0.507 < --- 4000\n",
      "| 0, 0.136| 1, 0.765| 1, 0.703| 0, 0.321 < --- 5000\n",
      "| 0, 0.090| 1, 0.830| 1, 0.811| 0, 0.208 < --- 6000\n",
      "| 0, 0.065| 1, 0.869| 1, 0.859| 0, 0.157 < --- 7000\n",
      "| 0, 0.052| 1, 0.892| 1, 0.885| 0, 0.128 < --- 8000\n",
      "| 0, 0.043| 1, 0.907| 1, 0.901| 0, 0.110 < --- 9000\n"
     ]
    }
   ],
   "source": [
    "# Number of epochs\n",
    "# ... or in other words:\n",
    "# how many times we show our network all examples\n",
    "N = 10000 \n",
    "\n",
    "error = np.zeros((N,1))\n",
    "\n",
    "for n in range(N):\n",
    "    for i in range(len(X)): # iterate over all examples\n",
    "        x = np.array(X[i])\n",
    "        y = np.array(Y[i])\n",
    "        # Forward pass, 1st layer\n",
    "        act1 = np.dot(w1.T, x) + b1\n",
    "        lay1 = sigmoid(act1)\n",
    "        # Forward pass, 2nd layer\n",
    "        act2 = np.dot(w2.T, lay1.T) + b2\n",
    "        lay2 = sigmoid(act2)\n",
    "        # Computing error\n",
    "        E = 0.5*(lay2 - y)**2\n",
    "        error[n] += E[0]\n",
    "        # Backprop, 2nd layer\n",
    "        delta_l2 = (lay2-y) * dsigmoid(lay2)\n",
    "        corr_w2 = (delta_l2 * lay1).T\n",
    "        corr_b2 = delta_l2 * 1\n",
    "        # Backprop, 1st layer\n",
    "        delta_l1 = np.dot(w2, delta_l2) * dsigmoid(lay1).T\n",
    "        corr_w1 = np.outer(x, delta_l1)\n",
    "        corr_b1 = (delta_l1 * 1).T\n",
    "        w2 = w2 - eta * corr_w2\n",
    "        b2 = b2 - eta * corr_b2\n",
    "        w1 = w1 - eta * corr_w1\n",
    "        b1 = b1 - eta * corr_b1\n",
    "        if n % 1000 == 0:\n",
    "            print('| {}, {:.3f}'.format(y, lay2[0][0]), end='')\n",
    "    if n % 1000 == 0:\n",
    "        print(' <', '-' * 3, n)\n",
    "    error[n] /= len(X)"
   ]
  },
  {
   "cell_type": "code",
   "execution_count": 15,
   "metadata": {},
   "outputs": [
    {
     "data": {
      "text/plain": [
       "<matplotlib.text.Text at 0x11f386780>"
      ]
     },
     "execution_count": 15,
     "metadata": {},
     "output_type": "execute_result"
    },
    {
     "data": {
      "image/png": "[encoded data removed]",
      "text/plain": [
       "<matplotlib.figure.Figure at 0x11f38ca90>"
      ]
     },
     "metadata": {
      "needs_background": "light"
     },
     "output_type": "display_data"
    }
   ],
   "source": [
    "plt.plot(np.arange(N), error)\n",
    "plt.ylabel('error')\n",
    "plt.xlabel('epoch')"
   ]
  },
  {
   "cell_type": "markdown",
   "metadata": {},
   "source": [
    "Above we implemeted so called stochastic gradient descent. We update weights right after seeing a new example.\n",
    "\n",
    "Below we slightly change our code to follow batch gradient descent schema. We update parameters after seeing a batch of examples. In  our case all four."
   ]
  },
  {
   "cell_type": "code",
   "execution_count": 16,
   "metadata": {},
   "outputs": [],
   "source": [
    "w1 = 2 * np.random.random(size=(2,3)) - 1\n",
    "w2 = 2 * np.random.random(size=(3,1)) - 1\n",
    "b1 = 2 * np.random.random(size=(1,3)) - 1\n",
    "b2 = 2 * np.random.random(size=(1,1)) - 1"
   ]
  },
  {
   "cell_type": "code",
   "execution_count": 17,
   "metadata": {},
   "outputs": [
    {
     "name": "stdout",
     "output_type": "stream",
     "text": [
      "| 0, 0.699| 1, 0.680| 1, 0.696| 0, 0.678 < --- 0\n",
      "| 0, 0.507| 1, 0.528| 1, 0.479| 0, 0.490 < --- 1000\n",
      "| 0, 0.490| 1, 0.612| 1, 0.428| 0, 0.458 < --- 2000\n",
      "| 0, 0.444| 1, 0.764| 1, 0.433| 0, 0.347 < --- 3000\n",
      "| 0, 0.237| 1, 0.837| 1, 0.774| 0, 0.174 < --- 4000\n",
      "| 0, 0.135| 1, 0.894| 1, 0.879| 0, 0.103 < --- 5000\n",
      "| 0, 0.099| 1, 0.919| 1, 0.913| 0, 0.077 < --- 6000\n",
      "| 0, 0.081| 1, 0.933| 1, 0.930| 0, 0.063 < --- 7000\n",
      "| 0, 0.070| 1, 0.942| 1, 0.940| 0, 0.054 < --- 8000\n",
      "| 0, 0.062| 1, 0.948| 1, 0.947| 0, 0.048 < --- 9000\n"
     ]
    }
   ],
   "source": [
    "N = 10000\n",
    "error = np.zeros((N,1))\n",
    "for n in range(N):\n",
    "    Dw_1 = np.zeros((2,3))\n",
    "    Dw_2 = np.zeros((3,1))\n",
    "    Db_1 = np.zeros((1,3))\n",
    "    Db_2 = np.zeros((1,1))\n",
    "\n",
    "    for i in range(len(X)): # iterate over all examples\n",
    "        x = np.array(X[i])\n",
    "        y = np.array(Y[i])\n",
    "        # Forward pass, 1st layer\n",
    "        act1 = np.dot(w1.T, x) + b1\n",
    "        lay1 = sigmoid(act1)\n",
    "        # Forward pass, 2nd layer\n",
    "        act2 = np.dot(w2.T, lay1.T) + b2\n",
    "        lay2 = sigmoid(act2)\n",
    "        # Computing error\n",
    "        E = 0.5*(lay2 - y)**2\n",
    "        error[n] += E[0]\n",
    "        # Backprop, 2nd layer\n",
    "        delta_l2 = (lay2-y) * dsigmoid(lay2)\n",
    "        corr_w2 = (delta_l2 * lay1).T\n",
    "        corr_b2 = delta_l2 * 1\n",
    "        # Backprop, 1st layer\n",
    "        delta_l1 = np.dot(w2, delta_l2) * dsigmoid(lay1).T\n",
    "        corr_w1 = np.outer(x, delta_l1)\n",
    "        corr_b1 = (delta_l1 * 1).T\n",
    "        Dw_2 += corr_w2\n",
    "        Dw_1 += corr_w1\n",
    "        Db_2 += corr_b2\n",
    "        Db_1 += corr_b1\n",
    "        if n % 1000 == 0:\n",
    "            print('| {}, {:.3f}'.format(y, lay2[0][0]), end='')\n",
    "    if n % 1000 == 0:\n",
    "        print(' <', '-' * 3, n)\n",
    "    w2 = w2 - eta * Dw_2\n",
    "    b2 = b2 - eta * Db_2\n",
    "    w1 = w1 - eta * Dw_1\n",
    "    b1 = b1 - eta * Db_1\n",
    "    error[n] /= len(X)"
   ]
  },
  {
   "cell_type": "code",
   "execution_count": 18,
   "metadata": {},
   "outputs": [
    {
     "data": {
      "text/plain": [
       "<matplotlib.text.Text at 0x11f6bdeb8>"
      ]
     },
     "execution_count": 18,
     "metadata": {},
     "output_type": "execute_result"
    },
    {
     "data": {
      "image/png": "[encoded data removed]",
      "text/plain": [
       "<matplotlib.figure.Figure at 0x11f623400>"
      ]
     },
     "metadata": {
      "needs_background": "light"
     },
     "output_type": "display_data"
    }
   ],
   "source": [
    "plt.plot(np.arange(N), error)\n",
    "plt.ylabel('error')\n",
    "plt.xlabel('epoch')"
   ]
  },
  {
   "cell_type": "markdown",
   "metadata": {},
   "source": [
    "Is there anything you can notice by comparing these two graphs?"
   ]
  },
  {
   "cell_type": "markdown",
   "metadata": {},
   "source": [
    "# Vanilla Recurrent Neural Network"
   ]
  },
  {
   "cell_type": "markdown",
   "metadata": {},
   "source": [
    "Some people think that RNN are more difficult to understand. Well... conceptually there are some nuances, but implementation is not that difficult.\n",
    "\n",
    "First of all, we need to change the way we think about our problem. Now our $X_r$ is not simply a pair of numbers, but a sequence. We will try to teach our network slightly different problem. To recognize that 1 should follow only two preceding zeros.\n",
    "\n",
    "```\n",
    "0 -> 0 -> 1\n",
    "1 -> 0 -> 0\n",
    "0 -> 1 -> 0\n",
    "1 -> 1 -> 0\n",
    "```\n",
    "\n",
    "Let's try to teach our network that."
   ]
  },
  {
   "cell_type": "markdown",
   "metadata": {},
   "source": [
    "Our architecture looks like this:\n",
    "\n",
    "![](img/nn14.png)\n",
    "\n",
    "Quite similar, isn't it?\n",
    "\n",
    "The only difference is the recurrent layer with parameters $w_h$ and $b_h$."
   ]
  },
  {
   "cell_type": "code",
   "execution_count": 19,
   "metadata": {},
   "outputs": [],
   "source": [
    "w1 = 2 * np.random.random(size=(1,3)) - 1\n",
    "w2 = 2 * np.random.random(size=(3,1)) - 1\n",
    "b1 = 2 * np.random.random(size=(1,3)) - 1\n",
    "b2 = 2 * np.random.random(size=(1,1)) - 1"
   ]
  },
  {
   "cell_type": "code",
   "execution_count": 20,
   "metadata": {},
   "outputs": [],
   "source": [
    "wh = 2 * np.random.random(size=(3,3)) - 1\n",
    "bh = 2 * np.random.random(size=(1,3)) - 1"
   ]
  },
  {
   "cell_type": "markdown",
   "metadata": {},
   "source": [
    "Since the architecture is so similar, it's easy to guess that most of the equations stay the same.\n",
    "\n",
    "Obviously, there is a difference in layer 1:\n",
    "\n",
    "![](img/nn15.png)"
   ]
  },
  {
   "cell_type": "markdown",
   "metadata": {},
   "source": [
    "The update rules for $w_1$, $w_2$, $b_1$ and $b_2$ look exactly the same. We need to add update rule for the recurrent hidden layer.\n",
    "\n",
    "![](img/nn16.png)"
   ]
  },
  {
   "cell_type": "code",
   "execution_count": 21,
   "metadata": {},
   "outputs": [],
   "source": [
    "Xr = [[0,0,1], [1,1,0], [1,0,0], [0,1,0]]"
   ]
  },
  {
   "cell_type": "markdown",
   "metadata": {},
   "source": [
    "The main difference in adjusting the previous code lays in the time-step propagation. Notice variables `lay1_mem` and `lay2_mem` that contain previous values of layers 1 and 2 respectively (`mem` stands for memory). We need to \"remember\" previous values in order to propagate the error backwards in time. I hope that it agrees with intuitive behaviour of recurrent neural networks."
   ]
  },
  {
   "cell_type": "code",
   "execution_count": 22,
   "metadata": {},
   "outputs": [
    {
     "name": "stdout",
     "output_type": "stream",
     "text": [
      "0 - > 0 (0.481)0 - > 1 (0.438) < --- 0\n",
      "1 - > 1 (0.505)1 - > 0 (0.456) < --- 0\n",
      "1 - > 0 (0.506)0 - > 0 (0.439) < --- 0\n",
      "0 - > 1 (0.471)1 - > 0 (0.446) < --- 0\n",
      "0 - > 0 (0.611)0 - > 1 (0.507) < --- 1000\n",
      "1 - > 1 (0.356)1 - > 0 (0.145) < --- 1000\n",
      "1 - > 0 (0.367)0 - > 0 (0.321) < --- 1000\n",
      "0 - > 1 (0.608)1 - > 0 (0.253) < --- 1000\n",
      "0 - > 0 (0.643)0 - > 1 (0.608) < --- 2000\n",
      "1 - > 1 (0.363)1 - > 0 (0.067) < --- 2000\n",
      "1 - > 0 (0.377)0 - > 0 (0.209) < --- 2000\n",
      "0 - > 1 (0.640)1 - > 0 (0.252) < --- 2000\n",
      "0 - > 0 (0.633)0 - > 1 (0.695) < --- 3000\n",
      "1 - > 1 (0.376)1 - > 0 (0.032) < --- 3000\n",
      "1 - > 0 (0.389)0 - > 0 (0.137) < --- 3000\n",
      "0 - > 1 (0.630)1 - > 0 (0.234) < --- 3000\n",
      "0 - > 0 (0.606)0 - > 1 (0.761) < --- 4000\n",
      "1 - > 1 (0.387)1 - > 0 (0.014) < --- 4000\n",
      "1 - > 0 (0.402)0 - > 0 (0.082) < --- 4000\n",
      "0 - > 1 (0.602)1 - > 0 (0.224) < --- 4000\n",
      "0 - > 0 (0.578)0 - > 1 (0.807) < --- 5000\n",
      "1 - > 1 (0.400)1 - > 0 (0.006) < --- 5000\n",
      "1 - > 0 (0.418)0 - > 0 (0.051) < --- 5000\n",
      "0 - > 1 (0.573)1 - > 0 (0.211) < --- 5000\n",
      "0 - > 0 (0.557)0 - > 1 (0.841) < --- 6000\n",
      "1 - > 1 (0.415)1 - > 0 (0.004) < --- 6000\n",
      "1 - > 0 (0.436)0 - > 0 (0.038) < --- 6000\n",
      "0 - > 1 (0.550)1 - > 0 (0.193) < --- 6000\n",
      "0 - > 0 (0.543)0 - > 1 (0.866) < --- 7000\n",
      "1 - > 1 (0.429)1 - > 0 (0.002) < --- 7000\n",
      "1 - > 0 (0.453)0 - > 0 (0.031) < --- 7000\n",
      "0 - > 1 (0.534)1 - > 0 (0.173) < --- 7000\n",
      "0 - > 0 (0.533)0 - > 1 (0.884) < --- 8000\n",
      "1 - > 1 (0.440)1 - > 0 (0.002) < --- 8000\n",
      "1 - > 0 (0.466)0 - > 0 (0.028) < --- 8000\n",
      "0 - > 1 (0.523)1 - > 0 (0.155) < --- 8000\n",
      "0 - > 0 (0.526)0 - > 1 (0.898) < --- 9000\n",
      "1 - > 1 (0.448)1 - > 0 (0.001) < --- 9000\n",
      "1 - > 0 (0.477)0 - > 0 (0.025) < --- 9000\n",
      "0 - > 1 (0.516)1 - > 0 (0.140) < --- 9000\n"
     ]
    }
   ],
   "source": [
    "N = 10000\n",
    "error = np.zeros((N,1))\n",
    "\n",
    "corr_w1 = np.zeros((1,3))\n",
    "corr_b1 = np.zeros((1,3))\n",
    "corr_w2 = np.zeros((3,1))\n",
    "corr_b2 = np.zeros((1,1))\n",
    "corr_wh = np.zeros((3,3))\n",
    "corr_bh = np.zeros((1,3))\n",
    "\n",
    "for n in range(N):\n",
    "    for i in range(len(Xr)):\n",
    "        lay1_mem = [np.zeros((1,3))]  # ! NEW\n",
    "        lay2_mem = []                  # ! NEW\n",
    "        for k in range(2):             # ! NEW\n",
    "            x = np.array(Xr[i][k])\n",
    "            y = np.array(Xr[i][k + 1])\n",
    "            # Forward pass, 1st layer\n",
    "            act1 = np.dot(w1.T, x) + b1.T + (np.dot(lay1_mem[-1], wh) + bh).T # ! NEW\n",
    "            lay1 = sigmoid(act1).T\n",
    "            # Forward pass, 2nd layer\n",
    "            act2 = np.dot(w2.T, lay1.T) + b2\n",
    "            lay2 = sigmoid(act2)\n",
    "            # Computing error\n",
    "            E = 0.5*(lay2 - y)**2\n",
    "            error[n] += E[0]\n",
    "            lay1_mem.append(np.copy(lay1))      # ! NEW\n",
    "            lay2_mem.append(np.copy(lay2))       # ! NEW\n",
    "            if n % 1000 == 0:\n",
    "                print('{} - > {} ({:.3f})'.format(x, y, lay2[0][0]), end='')\n",
    "        for k in range(1,-1,-1):                 # ! NEW\n",
    "            x = np.array(Xr[i][k])\n",
    "            y = np.array(Xr[i][k + 1])\n",
    "            # Backprop, 2nd layer\n",
    "            delta_l2 = (lay2_mem[k]-y) * dsigmoid(lay2_mem[k])\n",
    "            corr_w2 += (delta_l2 * lay1_mem[k+1]).T\n",
    "            corr_b2 += delta_l2 * 1\n",
    "            # Backprop, 1st layer\n",
    "            delta_l1 = np.dot(w2, delta_l2) * dsigmoid(lay1_mem[k+1]).T\n",
    "            corr_w1 += np.outer(x, delta_l1)\n",
    "            corr_b1 += (delta_l1 * 1).T\n",
    "            # Backprob, recurrent layer\n",
    "            corr_wh += np.outer(lay1_mem[k], delta_l1) # ! NEW\n",
    "            corr_bh += (delta_l1 * 1).T                 # ! NEW\n",
    "        w2 = w2 - eta * corr_w2\n",
    "        b2 = b2 - eta * corr_b2\n",
    "        w1 = w1 - eta * corr_w1\n",
    "        b1 = b1 - eta * corr_b1\n",
    "        wh = wh - eta * corr_wh # ! NEW\n",
    "        bh = bh - eta * corr_bh # ! NEW\n",
    "        corr_w2 *= 0\n",
    "        corr_b2 *= 0\n",
    "        corr_w1 *= 0\n",
    "        corr_b1 *= 0\n",
    "        corr_wh *= 0\n",
    "        corr_bh *= 0\n",
    "        if n % 1000 == 0:\n",
    "            print(' <', '-' * 3, n)\n",
    "    error[n] /= len(X)*2"
   ]
  },
  {
   "cell_type": "code",
   "execution_count": 23,
   "metadata": {},
   "outputs": [
    {
     "data": {
      "text/plain": [
       "<matplotlib.text.Text at 0x11f71bf98>"
      ]
     },
     "execution_count": 23,
     "metadata": {},
     "output_type": "execute_result"
    },
    {
     "data": {
      "image/png": "[encoded data removed]",
      "text/plain": [
       "<matplotlib.figure.Figure at 0x11f7d9438>"
      ]
     },
     "metadata": {
      "needs_background": "light"
     },
     "output_type": "display_data"
    }
   ],
   "source": [
    "plt.plot(np.arange(N), error)\n",
    "plt.ylabel('error')\n",
    "plt.xlabel('epoch')"
   ]
  }
 ],
 "metadata": {
  "kernelspec": {
   "display_name": "Python 3",
   "language": "python",
   "name": "python3"
  },
  "language_info": {
   "codemirror_mode": {
    "name": "ipython",
    "version": 3
   },
   "file_extension": ".py",
   "mimetype": "text/x-python",
   "name": "python",
   "nbconvert_exporter": "python",
   "pygments_lexer": "ipython3",
   "version": "3.6.6"
  }
 },
 "nbformat": 4,
 "nbformat_minor": 2
}
